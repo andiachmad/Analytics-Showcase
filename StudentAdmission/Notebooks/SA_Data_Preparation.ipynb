{
 "cells": [
  {
   "cell_type": "code",
   "execution_count": 561,
   "id": "ed08adb1-6179-42ce-8e5a-f231b8786e11",
   "metadata": {},
   "outputs": [],
   "source": [
    "import pandas as pd\n",
    "import numpy as np\n",
    "import matplotlib.pyplot as plt"
   ]
  },
  {
   "cell_type": "markdown",
   "id": "46c1a941-00c3-43d2-a7a0-ea3508874b6f",
   "metadata": {
    "jp-MarkdownHeadingCollapsed": true
   },
   "source": [
    "# Load Dataset"
   ]
  },
  {
   "cell_type": "code",
   "execution_count": 492,
   "id": "ca1348a0-85e3-495d-b2b9-5d92c3780c26",
   "metadata": {},
   "outputs": [],
   "source": [
    "df = pd.read_csv(r\"F:\\Portofolio\\Analytics-Showcase\\StudentAdmission\\Data\\RawData\\student_admission_record_dirty.csv\")"
   ]
  },
  {
   "cell_type": "code",
   "execution_count": 494,
   "id": "de560222-93c9-472d-930e-f7cf248657e3",
   "metadata": {},
   "outputs": [
    {
     "data": {
      "text/html": [
       "<div>\n",
       "<style scoped>\n",
       "    .dataframe tbody tr th:only-of-type {\n",
       "        vertical-align: middle;\n",
       "    }\n",
       "\n",
       "    .dataframe tbody tr th {\n",
       "        vertical-align: top;\n",
       "    }\n",
       "\n",
       "    .dataframe thead th {\n",
       "        text-align: right;\n",
       "    }\n",
       "</style>\n",
       "<table border=\"1\" class=\"dataframe\">\n",
       "  <thead>\n",
       "    <tr style=\"text-align: right;\">\n",
       "      <th></th>\n",
       "      <th>Name</th>\n",
       "      <th>Age</th>\n",
       "      <th>Gender</th>\n",
       "      <th>Admission Test Score</th>\n",
       "      <th>High School Percentage</th>\n",
       "      <th>City</th>\n",
       "      <th>Admission Status</th>\n",
       "    </tr>\n",
       "  </thead>\n",
       "  <tbody>\n",
       "    <tr>\n",
       "      <th>0</th>\n",
       "      <td>Shehroz</td>\n",
       "      <td>24.0</td>\n",
       "      <td>Female</td>\n",
       "      <td>50.0</td>\n",
       "      <td>68.90</td>\n",
       "      <td>Quetta</td>\n",
       "      <td>Rejected</td>\n",
       "    </tr>\n",
       "    <tr>\n",
       "      <th>1</th>\n",
       "      <td>Waqar</td>\n",
       "      <td>21.0</td>\n",
       "      <td>Female</td>\n",
       "      <td>99.0</td>\n",
       "      <td>60.73</td>\n",
       "      <td>Karachi</td>\n",
       "      <td>NaN</td>\n",
       "    </tr>\n",
       "    <tr>\n",
       "      <th>2</th>\n",
       "      <td>Bushra</td>\n",
       "      <td>17.0</td>\n",
       "      <td>Male</td>\n",
       "      <td>89.0</td>\n",
       "      <td>NaN</td>\n",
       "      <td>Islamabad</td>\n",
       "      <td>Accepted</td>\n",
       "    </tr>\n",
       "    <tr>\n",
       "      <th>3</th>\n",
       "      <td>Aliya</td>\n",
       "      <td>17.0</td>\n",
       "      <td>Male</td>\n",
       "      <td>55.0</td>\n",
       "      <td>85.29</td>\n",
       "      <td>Karachi</td>\n",
       "      <td>Rejected</td>\n",
       "    </tr>\n",
       "    <tr>\n",
       "      <th>4</th>\n",
       "      <td>Bilal</td>\n",
       "      <td>20.0</td>\n",
       "      <td>Male</td>\n",
       "      <td>65.0</td>\n",
       "      <td>61.13</td>\n",
       "      <td>Lahore</td>\n",
       "      <td>NaN</td>\n",
       "    </tr>\n",
       "  </tbody>\n",
       "</table>\n",
       "</div>"
      ],
      "text/plain": [
       "      Name   Age  Gender  Admission Test Score  High School Percentage  \\\n",
       "0  Shehroz  24.0  Female                  50.0                   68.90   \n",
       "1    Waqar  21.0  Female                  99.0                   60.73   \n",
       "2   Bushra  17.0    Male                  89.0                     NaN   \n",
       "3    Aliya  17.0    Male                  55.0                   85.29   \n",
       "4    Bilal  20.0    Male                  65.0                   61.13   \n",
       "\n",
       "        City Admission Status  \n",
       "0     Quetta         Rejected  \n",
       "1    Karachi              NaN  \n",
       "2  Islamabad         Accepted  \n",
       "3    Karachi         Rejected  \n",
       "4     Lahore              NaN  "
      ]
     },
     "execution_count": 494,
     "metadata": {},
     "output_type": "execute_result"
    }
   ],
   "source": [
    "df.head()"
   ]
  },
  {
   "cell_type": "code",
   "execution_count": 496,
   "id": "e800887d-d402-4449-9ea7-8d2971a3af51",
   "metadata": {},
   "outputs": [
    {
     "data": {
      "text/plain": [
       "Name                      147\n",
       "Age                       147\n",
       "Gender                    147\n",
       "Admission Test Score      146\n",
       "High School Percentage    146\n",
       "City                      147\n",
       "Admission Status          147\n",
       "dtype: int64"
      ]
     },
     "execution_count": 496,
     "metadata": {},
     "output_type": "execute_result"
    }
   ],
   "source": [
    "df.count()"
   ]
  },
  {
   "cell_type": "code",
   "execution_count": 498,
   "id": "79973b52-1100-4844-977b-19ea4513c38c",
   "metadata": {},
   "outputs": [
    {
     "name": "stdout",
     "output_type": "stream",
     "text": [
      "<class 'pandas.core.frame.DataFrame'>\n",
      "RangeIndex: 157 entries, 0 to 156\n",
      "Data columns (total 7 columns):\n",
      " #   Column                  Non-Null Count  Dtype  \n",
      "---  ------                  --------------  -----  \n",
      " 0   Name                    147 non-null    object \n",
      " 1   Age                     147 non-null    float64\n",
      " 2   Gender                  147 non-null    object \n",
      " 3   Admission Test Score    146 non-null    float64\n",
      " 4   High School Percentage  146 non-null    float64\n",
      " 5   City                    147 non-null    object \n",
      " 6   Admission Status        147 non-null    object \n",
      "dtypes: float64(3), object(4)\n",
      "memory usage: 8.7+ KB\n"
     ]
    }
   ],
   "source": [
    "df.info()"
   ]
  },
  {
   "cell_type": "code",
   "execution_count": 500,
   "id": "7ebe0694-6c8e-4fe6-8756-a582db1d0537",
   "metadata": {},
   "outputs": [
    {
     "data": {
      "text/html": [
       "<div>\n",
       "<style scoped>\n",
       "    .dataframe tbody tr th:only-of-type {\n",
       "        vertical-align: middle;\n",
       "    }\n",
       "\n",
       "    .dataframe tbody tr th {\n",
       "        vertical-align: top;\n",
       "    }\n",
       "\n",
       "    .dataframe thead th {\n",
       "        text-align: right;\n",
       "    }\n",
       "</style>\n",
       "<table border=\"1\" class=\"dataframe\">\n",
       "  <thead>\n",
       "    <tr style=\"text-align: right;\">\n",
       "      <th></th>\n",
       "      <th>Age</th>\n",
       "      <th>Admission Test Score</th>\n",
       "      <th>High School Percentage</th>\n",
       "    </tr>\n",
       "  </thead>\n",
       "  <tbody>\n",
       "    <tr>\n",
       "      <th>count</th>\n",
       "      <td>147.000000</td>\n",
       "      <td>146.000000</td>\n",
       "      <td>146.000000</td>\n",
       "    </tr>\n",
       "    <tr>\n",
       "      <th>mean</th>\n",
       "      <td>19.680272</td>\n",
       "      <td>77.657534</td>\n",
       "      <td>75.684726</td>\n",
       "    </tr>\n",
       "    <tr>\n",
       "      <th>std</th>\n",
       "      <td>4.540512</td>\n",
       "      <td>16.855343</td>\n",
       "      <td>17.368014</td>\n",
       "    </tr>\n",
       "    <tr>\n",
       "      <th>min</th>\n",
       "      <td>-1.000000</td>\n",
       "      <td>-5.000000</td>\n",
       "      <td>-10.000000</td>\n",
       "    </tr>\n",
       "    <tr>\n",
       "      <th>25%</th>\n",
       "      <td>18.000000</td>\n",
       "      <td>68.250000</td>\n",
       "      <td>65.052500</td>\n",
       "    </tr>\n",
       "    <tr>\n",
       "      <th>50%</th>\n",
       "      <td>20.000000</td>\n",
       "      <td>79.000000</td>\n",
       "      <td>77.545000</td>\n",
       "    </tr>\n",
       "    <tr>\n",
       "      <th>75%</th>\n",
       "      <td>22.000000</td>\n",
       "      <td>89.000000</td>\n",
       "      <td>88.312500</td>\n",
       "    </tr>\n",
       "    <tr>\n",
       "      <th>max</th>\n",
       "      <td>24.000000</td>\n",
       "      <td>150.000000</td>\n",
       "      <td>110.500000</td>\n",
       "    </tr>\n",
       "  </tbody>\n",
       "</table>\n",
       "</div>"
      ],
      "text/plain": [
       "              Age  Admission Test Score  High School Percentage\n",
       "count  147.000000            146.000000              146.000000\n",
       "mean    19.680272             77.657534               75.684726\n",
       "std      4.540512             16.855343               17.368014\n",
       "min     -1.000000             -5.000000              -10.000000\n",
       "25%     18.000000             68.250000               65.052500\n",
       "50%     20.000000             79.000000               77.545000\n",
       "75%     22.000000             89.000000               88.312500\n",
       "max     24.000000            150.000000              110.500000"
      ]
     },
     "execution_count": 500,
     "metadata": {},
     "output_type": "execute_result"
    }
   ],
   "source": [
    "df.describe()"
   ]
  },
  {
   "cell_type": "markdown",
   "id": "b8a9a9c3-f8d0-44f4-8311-b75c3c4957f6",
   "metadata": {},
   "source": [
    "Terdapat outlier data yang dimana Admission Test Score (ATS) dan High School Percentage (HSP) yang biasanyaa ditemukan ini memiliki range nilai 0-100, akan tetapi pada dataset ini mencakup nilai outlier yang dimana dari -10 hingga 150."
   ]
  },
  {
   "cell_type": "markdown",
   "id": "0dd376e8-8bb6-4a60-96e5-64cc058910ff",
   "metadata": {
    "jp-MarkdownHeadingCollapsed": true
   },
   "source": [
    "# Handle Outlier Data"
   ]
  },
  {
   "cell_type": "code",
   "execution_count": 504,
   "id": "f3effc03-7e01-4cd1-9eb3-8436d0a64fb5",
   "metadata": {},
   "outputs": [],
   "source": [
    "# Age (Range asumsi anak yang mengambil test sekitar 10-25 Tahun)\n",
    "df[\"Age\"] = df[\"Age\"].clip(lower=10, upper=25)\n",
    "\n",
    "# Admission Test Score\n",
    "df[\"Admission Test Score\"] = df[\"Admission Test Score\"].clip(lower=0, upper=100)\n",
    "\n",
    "# High Score Percentage\n",
    "df[\"High School Percentage\"] = df[\"High School Percentage\"].clip(lower=0, upper=100)"
   ]
  },
  {
   "cell_type": "code",
   "execution_count": 506,
   "id": "ee6157d0-aadc-4c17-84c8-d40aade34038",
   "metadata": {},
   "outputs": [
    {
     "data": {
      "text/html": [
       "<div>\n",
       "<style scoped>\n",
       "    .dataframe tbody tr th:only-of-type {\n",
       "        vertical-align: middle;\n",
       "    }\n",
       "\n",
       "    .dataframe tbody tr th {\n",
       "        vertical-align: top;\n",
       "    }\n",
       "\n",
       "    .dataframe thead th {\n",
       "        text-align: right;\n",
       "    }\n",
       "</style>\n",
       "<table border=\"1\" class=\"dataframe\">\n",
       "  <thead>\n",
       "    <tr style=\"text-align: right;\">\n",
       "      <th></th>\n",
       "      <th>Age</th>\n",
       "      <th>Admission Test Score</th>\n",
       "      <th>High School Percentage</th>\n",
       "    </tr>\n",
       "  </thead>\n",
       "  <tbody>\n",
       "    <tr>\n",
       "      <th>count</th>\n",
       "      <td>147.000000</td>\n",
       "      <td>146.000000</td>\n",
       "      <td>146.000000</td>\n",
       "    </tr>\n",
       "    <tr>\n",
       "      <th>mean</th>\n",
       "      <td>20.054422</td>\n",
       "      <td>77.342466</td>\n",
       "      <td>75.681301</td>\n",
       "    </tr>\n",
       "    <tr>\n",
       "      <th>std</th>\n",
       "      <td>3.006346</td>\n",
       "      <td>15.668743</td>\n",
       "      <td>16.918543</td>\n",
       "    </tr>\n",
       "    <tr>\n",
       "      <th>min</th>\n",
       "      <td>10.000000</td>\n",
       "      <td>0.000000</td>\n",
       "      <td>0.000000</td>\n",
       "    </tr>\n",
       "    <tr>\n",
       "      <th>25%</th>\n",
       "      <td>18.000000</td>\n",
       "      <td>68.250000</td>\n",
       "      <td>65.052500</td>\n",
       "    </tr>\n",
       "    <tr>\n",
       "      <th>50%</th>\n",
       "      <td>20.000000</td>\n",
       "      <td>79.000000</td>\n",
       "      <td>77.545000</td>\n",
       "    </tr>\n",
       "    <tr>\n",
       "      <th>75%</th>\n",
       "      <td>22.000000</td>\n",
       "      <td>89.000000</td>\n",
       "      <td>88.312500</td>\n",
       "    </tr>\n",
       "    <tr>\n",
       "      <th>max</th>\n",
       "      <td>24.000000</td>\n",
       "      <td>100.000000</td>\n",
       "      <td>100.000000</td>\n",
       "    </tr>\n",
       "  </tbody>\n",
       "</table>\n",
       "</div>"
      ],
      "text/plain": [
       "              Age  Admission Test Score  High School Percentage\n",
       "count  147.000000            146.000000              146.000000\n",
       "mean    20.054422             77.342466               75.681301\n",
       "std      3.006346             15.668743               16.918543\n",
       "min     10.000000              0.000000                0.000000\n",
       "25%     18.000000             68.250000               65.052500\n",
       "50%     20.000000             79.000000               77.545000\n",
       "75%     22.000000             89.000000               88.312500\n",
       "max     24.000000            100.000000              100.000000"
      ]
     },
     "execution_count": 506,
     "metadata": {},
     "output_type": "execute_result"
    }
   ],
   "source": [
    "df.describe()"
   ]
  },
  {
   "cell_type": "markdown",
   "id": "6d9fd1e1-0e61-489e-8ec7-caa2ef6aee2e",
   "metadata": {},
   "source": [
    "Pada data sebelumnya terdapat beberapa nilai yang tidak masuk akal (seperti -10, -5, 110, 150), yang bisa dianggap sebagai outlier atau kesalahan input.\n",
    "Daripada menghapus baris-baris tersebut (yang bisa memicu pertanyaan dari pihak siswa atau pemilik data), saya menggunakan fungsi clip() untuk membatasi nilai agar tetap dalam rentang yang wajar, yaitu antara 0 dan 100."
   ]
  },
  {
   "cell_type": "markdown",
   "id": "6ca46a9b-7303-4f02-8785-b0c793ba96e3",
   "metadata": {
    "jp-MarkdownHeadingCollapsed": true
   },
   "source": [
    "# Data Preprocessing & Cleaning"
   ]
  },
  {
   "cell_type": "markdown",
   "id": "b1298825-26f3-4c99-8fd1-04bf886b3e19",
   "metadata": {
    "jp-MarkdownHeadingCollapsed": true
   },
   "source": [
    "### Duplicate Data"
   ]
  },
  {
   "cell_type": "code",
   "execution_count": 511,
   "id": "1da2f645-02ca-4a30-afb8-8b5ef6dc434f",
   "metadata": {},
   "outputs": [
    {
     "data": {
      "text/plain": [
       "6"
      ]
     },
     "execution_count": 511,
     "metadata": {},
     "output_type": "execute_result"
    }
   ],
   "source": [
    "# Menghitung jumlah data yang duplikat\n",
    "df.duplicated().sum()"
   ]
  },
  {
   "cell_type": "code",
   "execution_count": 513,
   "id": "ee5946d2-bdc0-4624-b375-35c771a8ea56",
   "metadata": {},
   "outputs": [
    {
     "data": {
      "text/html": [
       "<div>\n",
       "<style scoped>\n",
       "    .dataframe tbody tr th:only-of-type {\n",
       "        vertical-align: middle;\n",
       "    }\n",
       "\n",
       "    .dataframe tbody tr th {\n",
       "        vertical-align: top;\n",
       "    }\n",
       "\n",
       "    .dataframe thead th {\n",
       "        text-align: right;\n",
       "    }\n",
       "</style>\n",
       "<table border=\"1\" class=\"dataframe\">\n",
       "  <thead>\n",
       "    <tr style=\"text-align: right;\">\n",
       "      <th></th>\n",
       "      <th>Name</th>\n",
       "      <th>Age</th>\n",
       "      <th>Gender</th>\n",
       "      <th>Admission Test Score</th>\n",
       "      <th>High School Percentage</th>\n",
       "      <th>City</th>\n",
       "      <th>Admission Status</th>\n",
       "    </tr>\n",
       "  </thead>\n",
       "  <tbody>\n",
       "    <tr>\n",
       "      <th>3</th>\n",
       "      <td>Aliya</td>\n",
       "      <td>17.0</td>\n",
       "      <td>Male</td>\n",
       "      <td>55.0</td>\n",
       "      <td>85.29</td>\n",
       "      <td>Karachi</td>\n",
       "      <td>Rejected</td>\n",
       "    </tr>\n",
       "    <tr>\n",
       "      <th>9</th>\n",
       "      <td>Kamran</td>\n",
       "      <td>18.0</td>\n",
       "      <td>Male</td>\n",
       "      <td>53.0</td>\n",
       "      <td>98.98</td>\n",
       "      <td>Multan</td>\n",
       "      <td>Rejected</td>\n",
       "    </tr>\n",
       "    <tr>\n",
       "      <th>13</th>\n",
       "      <td>Ahmed</td>\n",
       "      <td>21.0</td>\n",
       "      <td>Male</td>\n",
       "      <td>62.0</td>\n",
       "      <td>79.03</td>\n",
       "      <td>Karachi</td>\n",
       "      <td>Accepted</td>\n",
       "    </tr>\n",
       "    <tr>\n",
       "      <th>22</th>\n",
       "      <td>Kamran</td>\n",
       "      <td>18.0</td>\n",
       "      <td>Male</td>\n",
       "      <td>53.0</td>\n",
       "      <td>98.98</td>\n",
       "      <td>Multan</td>\n",
       "      <td>Rejected</td>\n",
       "    </tr>\n",
       "    <tr>\n",
       "      <th>36</th>\n",
       "      <td>Ayesha</td>\n",
       "      <td>24.0</td>\n",
       "      <td>Male</td>\n",
       "      <td>94.0</td>\n",
       "      <td>98.43</td>\n",
       "      <td>Multan</td>\n",
       "      <td>Rejected</td>\n",
       "    </tr>\n",
       "    <tr>\n",
       "      <th>52</th>\n",
       "      <td>Ahmed</td>\n",
       "      <td>21.0</td>\n",
       "      <td>Male</td>\n",
       "      <td>62.0</td>\n",
       "      <td>79.03</td>\n",
       "      <td>Karachi</td>\n",
       "      <td>Accepted</td>\n",
       "    </tr>\n",
       "    <tr>\n",
       "      <th>61</th>\n",
       "      <td>Hamza</td>\n",
       "      <td>22.0</td>\n",
       "      <td>Male</td>\n",
       "      <td>99.0</td>\n",
       "      <td>86.58</td>\n",
       "      <td>Multan</td>\n",
       "      <td>Accepted</td>\n",
       "    </tr>\n",
       "    <tr>\n",
       "      <th>69</th>\n",
       "      <td>Tuba</td>\n",
       "      <td>17.0</td>\n",
       "      <td>Female</td>\n",
       "      <td>75.0</td>\n",
       "      <td>78.43</td>\n",
       "      <td>Peshawar</td>\n",
       "      <td>Accepted</td>\n",
       "    </tr>\n",
       "    <tr>\n",
       "      <th>88</th>\n",
       "      <td>Aliya</td>\n",
       "      <td>17.0</td>\n",
       "      <td>Male</td>\n",
       "      <td>55.0</td>\n",
       "      <td>85.29</td>\n",
       "      <td>Karachi</td>\n",
       "      <td>Rejected</td>\n",
       "    </tr>\n",
       "    <tr>\n",
       "      <th>110</th>\n",
       "      <td>Hamza</td>\n",
       "      <td>22.0</td>\n",
       "      <td>Male</td>\n",
       "      <td>99.0</td>\n",
       "      <td>86.58</td>\n",
       "      <td>Multan</td>\n",
       "      <td>Accepted</td>\n",
       "    </tr>\n",
       "    <tr>\n",
       "      <th>120</th>\n",
       "      <td>Ayesha</td>\n",
       "      <td>24.0</td>\n",
       "      <td>Male</td>\n",
       "      <td>94.0</td>\n",
       "      <td>98.43</td>\n",
       "      <td>Multan</td>\n",
       "      <td>Rejected</td>\n",
       "    </tr>\n",
       "    <tr>\n",
       "      <th>122</th>\n",
       "      <td>Tuba</td>\n",
       "      <td>17.0</td>\n",
       "      <td>Female</td>\n",
       "      <td>75.0</td>\n",
       "      <td>78.43</td>\n",
       "      <td>Peshawar</td>\n",
       "      <td>Accepted</td>\n",
       "    </tr>\n",
       "  </tbody>\n",
       "</table>\n",
       "</div>"
      ],
      "text/plain": [
       "       Name   Age  Gender  Admission Test Score  High School Percentage  \\\n",
       "3     Aliya  17.0    Male                  55.0                   85.29   \n",
       "9    Kamran  18.0    Male                  53.0                   98.98   \n",
       "13    Ahmed  21.0    Male                  62.0                   79.03   \n",
       "22   Kamran  18.0    Male                  53.0                   98.98   \n",
       "36   Ayesha  24.0    Male                  94.0                   98.43   \n",
       "52    Ahmed  21.0    Male                  62.0                   79.03   \n",
       "61    Hamza  22.0    Male                  99.0                   86.58   \n",
       "69     Tuba  17.0  Female                  75.0                   78.43   \n",
       "88    Aliya  17.0    Male                  55.0                   85.29   \n",
       "110   Hamza  22.0    Male                  99.0                   86.58   \n",
       "120  Ayesha  24.0    Male                  94.0                   98.43   \n",
       "122    Tuba  17.0  Female                  75.0                   78.43   \n",
       "\n",
       "         City Admission Status  \n",
       "3     Karachi         Rejected  \n",
       "9      Multan         Rejected  \n",
       "13    Karachi         Accepted  \n",
       "22     Multan         Rejected  \n",
       "36     Multan         Rejected  \n",
       "52    Karachi         Accepted  \n",
       "61     Multan         Accepted  \n",
       "69   Peshawar         Accepted  \n",
       "88    Karachi         Rejected  \n",
       "110    Multan         Accepted  \n",
       "120    Multan         Rejected  \n",
       "122  Peshawar         Accepted  "
      ]
     },
     "execution_count": 513,
     "metadata": {},
     "output_type": "execute_result"
    }
   ],
   "source": [
    "# Menampilkan semua baris yang memiliki duplikat persis (seluruh kolom sama), termasuk baris pertamanya\n",
    "duplicate = df[df.duplicated(keep=False)]\n",
    "\n",
    "duplicate"
   ]
  },
  {
   "cell_type": "markdown",
   "id": "1218db8c-313c-4591-bb9f-6da8de313236",
   "metadata": {},
   "source": [
    "Diketahui bahwa ID 9 dan 22, ID 61 dan 110, dan sisa data duplikat lainnya memiliki data yang persis identikal. Sehingga disini agar saya menghindari redudansi data, maka saya hanya akana menggunakan data record yang pertama kali masuk dari setiap data yang duplikat dan sisanya akan dibuang."
   ]
  },
  {
   "cell_type": "code",
   "execution_count": 516,
   "id": "4fe1ba5d-7b64-49ad-92ec-d69207ff0d0b",
   "metadata": {},
   "outputs": [],
   "source": [
    "#Menghapus data yang duplikat secara langsung pada dataset agar tersimpan hasilnya dan bisa dilanjutkan preprocessing\n",
    "df.drop_duplicates(inplace=True)\n",
    "\n",
    "#Alternatif\n",
    "df = df.drop_duplicates()"
   ]
  },
  {
   "cell_type": "code",
   "execution_count": 518,
   "id": "a594ae02-e192-4156-b406-76368e045d42",
   "metadata": {},
   "outputs": [
    {
     "data": {
      "text/plain": [
       "0"
      ]
     },
     "execution_count": 518,
     "metadata": {},
     "output_type": "execute_result"
    }
   ],
   "source": [
    "df.duplicated().sum()"
   ]
  },
  {
   "cell_type": "markdown",
   "id": "db412f23-247b-460a-bc34-38cfdcd34f82",
   "metadata": {},
   "source": [
    "### NULL Value"
   ]
  },
  {
   "cell_type": "code",
   "execution_count": 521,
   "id": "f7b071d2-0ab2-4654-b5ff-1b3e8701b9b8",
   "metadata": {},
   "outputs": [
    {
     "data": {
      "text/plain": [
       "Name                      10\n",
       "Age                       10\n",
       "Gender                    10\n",
       "Admission Test Score      11\n",
       "High School Percentage    11\n",
       "City                      10\n",
       "Admission Status          10\n",
       "dtype: int64"
      ]
     },
     "execution_count": 521,
     "metadata": {},
     "output_type": "execute_result"
    }
   ],
   "source": [
    "# Menghitung jumlah data yang hilang\n",
    "df.isnull().sum()"
   ]
  },
  {
   "cell_type": "markdown",
   "id": "ae52c653-50f8-416d-a059-05f2e36bb7ee",
   "metadata": {},
   "source": [
    "Karena ini adalah data record sekolah, sehingga kita perlu mempertahankan beberapa kolom penting seperti Admission Test Score dan High School Percentage"
   ]
  },
  {
   "cell_type": "code",
   "execution_count": 524,
   "id": "02ebabbd-a238-43d5-8884-97386cd64509",
   "metadata": {},
   "outputs": [],
   "source": [
    "# Mengubah data yang hilang pada Name menjadi Unknown\n",
    "df[\"Name\"] = df[\"Name\"].fillna(\"Unknown\")"
   ]
  },
  {
   "cell_type": "code",
   "execution_count": 526,
   "id": "9e22cef2-9e30-4aaa-954b-be3cdd3094d5",
   "metadata": {},
   "outputs": [],
   "source": [
    "# Data umur yang hilang ini saya gunakan median agar main aman\n",
    "df[\"Age\"] = df[\"Age\"].fillna(df[\"Age\"].median())"
   ]
  },
  {
   "cell_type": "code",
   "execution_count": 528,
   "id": "9570182c-8dd1-4911-b981-79575eea9f33",
   "metadata": {},
   "outputs": [
    {
     "data": {
      "text/plain": [
       "Gender\n",
       "Female    82\n",
       "Male      59\n",
       "Name: count, dtype: int64"
      ]
     },
     "execution_count": 528,
     "metadata": {},
     "output_type": "execute_result"
    }
   ],
   "source": [
    "# Mengetahui gender yang paling banyak ketika pendaftaran\n",
    "df[\"Gender\"].value_counts()"
   ]
  },
  {
   "cell_type": "code",
   "execution_count": 530,
   "id": "0ddf6f42-31ec-427e-9f69-6961c9641214",
   "metadata": {},
   "outputs": [],
   "source": [
    "# Menggunakan Mode untuk mengisi kolom gender yang hilang, sehingga akan dikatakan gender yang paling banyak ditemukan\n",
    "df[\"Gender\"] = df[\"Gender\"].fillna(df[\"Gender\"].mode()[0])"
   ]
  },
  {
   "cell_type": "code",
   "execution_count": 532,
   "id": "23da16ab-aac5-467a-9adb-226108cc8646",
   "metadata": {},
   "outputs": [],
   "source": [
    "# Menangani data hilang yang penting dalam case ini yakni kolom Admission Test Score dan High School Percentage karena value datanya adalah merepresentasikan hasil ujian dari siswa sendiri\n",
    "\n",
    "# Admission Test Score\n",
    "df[\"Admission Test Score\"] = df[\"Admission Test Score\"].fillna(df[\"Admission Test Score\"].median())\n",
    "\n",
    "# High School Percentage\n",
    "\n",
    "df[\"High School Percentage\"] = df[\"High School Percentage\"].fillna(df[\"High School Percentage\"].median())"
   ]
  },
  {
   "cell_type": "code",
   "execution_count": 534,
   "id": "da09ac36-7497-4a17-a0bf-7304c532943c",
   "metadata": {},
   "outputs": [
    {
     "name": "stdout",
     "output_type": "stream",
     "text": [
      "Nilai Skewness ATS: -1.167148720240807\n",
      "Nilai Skewness HSP: -1.2594949835918587\n"
     ]
    }
   ],
   "source": [
    "# Skewness Value\n",
    "print(\"Nilai Skewness ATS:\", df[\"Admission Test Score\"].skew())\n",
    "print(\"Nilai Skewness HSP:\", df[\"High School Percentage\"].skew())"
   ]
  },
  {
   "cell_type": "markdown",
   "id": "4ff56f9a-7a42-4be0-a50c-00434cabb9e1",
   "metadata": {},
   "source": [
    "Metode skewness diatas ini untuk membantu dalam memilih metode apa yang dapat digunakan untuk menangani nilai yang kosong pada kolom Admission Test Score (ATS) dan juga High School Percentage (HSP), apakah menggunakan median atau mean.\n"
   ]
  },
  {
   "cell_type": "code",
   "execution_count": 537,
   "id": "41947500-2627-47c0-b308-97f61664d88b",
   "metadata": {},
   "outputs": [
    {
     "data": {
      "text/plain": [
       "City\n",
       "Quetta        30\n",
       "Karachi       26\n",
       "Multan        18\n",
       "Islamabad     17\n",
       "Lahore        17\n",
       "Peshawar      17\n",
       "Rawalpindi    16\n",
       "Name: count, dtype: int64"
      ]
     },
     "execution_count": 537,
     "metadata": {},
     "output_type": "execute_result"
    }
   ],
   "source": [
    "# Mengetahui data kota apa yang paling banyak mendaftar\n",
    "df[\"City\"].value_counts()"
   ]
  },
  {
   "cell_type": "code",
   "execution_count": 539,
   "id": "ed58db56-f3c7-4e26-abd4-f6ea73ffab5a",
   "metadata": {},
   "outputs": [],
   "source": [
    "# Sama seperti gender, dimana data kota yang hilang akan dianggap berasal dari kota yang paling banyak\n",
    "df[\"City\"] = df[\"City\"].fillna(df[\"City\"].mode()[0])"
   ]
  },
  {
   "cell_type": "code",
   "execution_count": 541,
   "id": "565757c4-3cfe-4f25-a190-e22cd7c98658",
   "metadata": {},
   "outputs": [],
   "source": [
    "# Mengisi data NULL paada Admission Status dengan Unknown\n",
    "df[\"Admission Status\"] = df[\"Admission Status\"].fillna(\"Unknown\") "
   ]
  },
  {
   "cell_type": "markdown",
   "id": "eed96d7f-141a-40b7-b627-a84ff125b0e1",
   "metadata": {},
   "source": [
    "Karena saya disini memperuntukan output dashboard, tentu saya menggunaakan data yang hilang pada Admission Status ini dengan Unknown ketimbang menghilangkannya, karena hal ini bisa dijelaskan ada data yang hilang pada kolom ini. Terkecuali saya ingin menggunakan kolom ini untuk labeling pada Machine Learning, maka tahapannya akan berbeda"
   ]
  },
  {
   "cell_type": "markdown",
   "id": "11a08903-445e-415a-972e-d180770a0e04",
   "metadata": {},
   "source": [
    "### Consistency Words"
   ]
  },
  {
   "cell_type": "code",
   "execution_count": 545,
   "id": "86d2e612-d199-4b47-8341-e964e3c99ece",
   "metadata": {},
   "outputs": [
    {
     "data": {
      "text/html": [
       "<div>\n",
       "<style scoped>\n",
       "    .dataframe tbody tr th:only-of-type {\n",
       "        vertical-align: middle;\n",
       "    }\n",
       "\n",
       "    .dataframe tbody tr th {\n",
       "        vertical-align: top;\n",
       "    }\n",
       "\n",
       "    .dataframe thead th {\n",
       "        text-align: right;\n",
       "    }\n",
       "</style>\n",
       "<table border=\"1\" class=\"dataframe\">\n",
       "  <thead>\n",
       "    <tr style=\"text-align: right;\">\n",
       "      <th></th>\n",
       "      <th>Name</th>\n",
       "      <th>Age</th>\n",
       "      <th>Gender</th>\n",
       "      <th>Admission Test Score</th>\n",
       "      <th>High School Percentage</th>\n",
       "      <th>City</th>\n",
       "      <th>Admission Status</th>\n",
       "    </tr>\n",
       "  </thead>\n",
       "  <tbody>\n",
       "    <tr>\n",
       "      <th>0</th>\n",
       "      <td>Shehroz</td>\n",
       "      <td>24.0</td>\n",
       "      <td>Female</td>\n",
       "      <td>50.0</td>\n",
       "      <td>68.900</td>\n",
       "      <td>Quetta</td>\n",
       "      <td>Rejected</td>\n",
       "    </tr>\n",
       "    <tr>\n",
       "      <th>1</th>\n",
       "      <td>Waqar</td>\n",
       "      <td>21.0</td>\n",
       "      <td>Female</td>\n",
       "      <td>99.0</td>\n",
       "      <td>60.730</td>\n",
       "      <td>Karachi</td>\n",
       "      <td>Unknown</td>\n",
       "    </tr>\n",
       "    <tr>\n",
       "      <th>2</th>\n",
       "      <td>Bushra</td>\n",
       "      <td>17.0</td>\n",
       "      <td>Male</td>\n",
       "      <td>89.0</td>\n",
       "      <td>76.195</td>\n",
       "      <td>Islamabad</td>\n",
       "      <td>Accepted</td>\n",
       "    </tr>\n",
       "    <tr>\n",
       "      <th>3</th>\n",
       "      <td>Aliya</td>\n",
       "      <td>17.0</td>\n",
       "      <td>Male</td>\n",
       "      <td>55.0</td>\n",
       "      <td>85.290</td>\n",
       "      <td>Karachi</td>\n",
       "      <td>Rejected</td>\n",
       "    </tr>\n",
       "    <tr>\n",
       "      <th>4</th>\n",
       "      <td>Bilal</td>\n",
       "      <td>20.0</td>\n",
       "      <td>Male</td>\n",
       "      <td>65.0</td>\n",
       "      <td>61.130</td>\n",
       "      <td>Lahore</td>\n",
       "      <td>Unknown</td>\n",
       "    </tr>\n",
       "  </tbody>\n",
       "</table>\n",
       "</div>"
      ],
      "text/plain": [
       "      Name   Age  Gender  Admission Test Score  High School Percentage  \\\n",
       "0  Shehroz  24.0  Female                  50.0                  68.900   \n",
       "1    Waqar  21.0  Female                  99.0                  60.730   \n",
       "2   Bushra  17.0    Male                  89.0                  76.195   \n",
       "3    Aliya  17.0    Male                  55.0                  85.290   \n",
       "4    Bilal  20.0    Male                  65.0                  61.130   \n",
       "\n",
       "        City Admission Status  \n",
       "0     Quetta         Rejected  \n",
       "1    Karachi          Unknown  \n",
       "2  Islamabad         Accepted  \n",
       "3    Karachi         Rejected  \n",
       "4     Lahore          Unknown  "
      ]
     },
     "execution_count": 545,
     "metadata": {},
     "output_type": "execute_result"
    }
   ],
   "source": [
    "df.head()"
   ]
  },
  {
   "cell_type": "code",
   "execution_count": 547,
   "id": "917da1f3-0704-4af3-bc1a-ceb04170c0a5",
   "metadata": {},
   "outputs": [
    {
     "name": "stdout",
     "output_type": "stream",
     "text": [
      "Gender : ['Female' 'Male']\n",
      "City : ['Quetta' 'Karachi' 'Islamabad' 'Lahore' 'Multan' 'Peshawar' 'Rawalpindi']\n",
      "Admission Status : ['Rejected' 'Unknown' 'Accepted']\n"
     ]
    }
   ],
   "source": [
    "for col in [\"Gender\", \"City\", \"Admission Status\"]:\n",
    "    print(col, \":\", df[col].unique())"
   ]
  },
  {
   "cell_type": "markdown",
   "id": "1f600d0a-6dcb-42b4-8b9a-8bd32e0c8284",
   "metadata": {},
   "source": [
    "### Switching Dtype"
   ]
  },
  {
   "cell_type": "code",
   "execution_count": 565,
   "id": "abf256d3-3e8f-4dd0-b2d6-38e2f82caac5",
   "metadata": {},
   "outputs": [],
   "source": [
    "df[\"Age\"] = df[\"Age\"].astype(int)"
   ]
  },
  {
   "cell_type": "code",
   "execution_count": 567,
   "id": "bac1472f-dfde-46ab-90a5-8f8667fbf354",
   "metadata": {},
   "outputs": [
    {
     "name": "stdout",
     "output_type": "stream",
     "text": [
      "<class 'pandas.core.frame.DataFrame'>\n",
      "Index: 151 entries, 0 to 156\n",
      "Data columns (total 7 columns):\n",
      " #   Column                  Non-Null Count  Dtype  \n",
      "---  ------                  --------------  -----  \n",
      " 0   Name                    151 non-null    object \n",
      " 1   Age                     151 non-null    int32  \n",
      " 2   Gender                  151 non-null    object \n",
      " 3   Admission Test Score    151 non-null    float64\n",
      " 4   High School Percentage  151 non-null    float64\n",
      " 5   City                    151 non-null    object \n",
      " 6   Admission Status        151 non-null    object \n",
      "dtypes: float64(2), int32(1), object(4)\n",
      "memory usage: 8.8+ KB\n"
     ]
    }
   ],
   "source": [
    "df.info()"
   ]
  },
  {
   "cell_type": "code",
   "execution_count": 569,
   "id": "0186008d-17c9-4d1b-aaa2-1d96d3c86723",
   "metadata": {},
   "outputs": [
    {
     "data": {
      "text/html": [
       "<div>\n",
       "<style scoped>\n",
       "    .dataframe tbody tr th:only-of-type {\n",
       "        vertical-align: middle;\n",
       "    }\n",
       "\n",
       "    .dataframe tbody tr th {\n",
       "        vertical-align: top;\n",
       "    }\n",
       "\n",
       "    .dataframe thead th {\n",
       "        text-align: right;\n",
       "    }\n",
       "</style>\n",
       "<table border=\"1\" class=\"dataframe\">\n",
       "  <thead>\n",
       "    <tr style=\"text-align: right;\">\n",
       "      <th></th>\n",
       "      <th>Name</th>\n",
       "      <th>Age</th>\n",
       "      <th>Gender</th>\n",
       "      <th>Admission Test Score</th>\n",
       "      <th>High School Percentage</th>\n",
       "      <th>City</th>\n",
       "      <th>Admission Status</th>\n",
       "    </tr>\n",
       "  </thead>\n",
       "  <tbody>\n",
       "    <tr>\n",
       "      <th>0</th>\n",
       "      <td>Shehroz</td>\n",
       "      <td>24</td>\n",
       "      <td>Female</td>\n",
       "      <td>50.0</td>\n",
       "      <td>68.900</td>\n",
       "      <td>Quetta</td>\n",
       "      <td>Rejected</td>\n",
       "    </tr>\n",
       "    <tr>\n",
       "      <th>1</th>\n",
       "      <td>Waqar</td>\n",
       "      <td>21</td>\n",
       "      <td>Female</td>\n",
       "      <td>99.0</td>\n",
       "      <td>60.730</td>\n",
       "      <td>Karachi</td>\n",
       "      <td>Unknown</td>\n",
       "    </tr>\n",
       "    <tr>\n",
       "      <th>2</th>\n",
       "      <td>Bushra</td>\n",
       "      <td>17</td>\n",
       "      <td>Male</td>\n",
       "      <td>89.0</td>\n",
       "      <td>76.195</td>\n",
       "      <td>Islamabad</td>\n",
       "      <td>Accepted</td>\n",
       "    </tr>\n",
       "    <tr>\n",
       "      <th>3</th>\n",
       "      <td>Aliya</td>\n",
       "      <td>17</td>\n",
       "      <td>Male</td>\n",
       "      <td>55.0</td>\n",
       "      <td>85.290</td>\n",
       "      <td>Karachi</td>\n",
       "      <td>Rejected</td>\n",
       "    </tr>\n",
       "    <tr>\n",
       "      <th>4</th>\n",
       "      <td>Bilal</td>\n",
       "      <td>20</td>\n",
       "      <td>Male</td>\n",
       "      <td>65.0</td>\n",
       "      <td>61.130</td>\n",
       "      <td>Lahore</td>\n",
       "      <td>Unknown</td>\n",
       "    </tr>\n",
       "  </tbody>\n",
       "</table>\n",
       "</div>"
      ],
      "text/plain": [
       "      Name  Age  Gender  Admission Test Score  High School Percentage  \\\n",
       "0  Shehroz   24  Female                  50.0                  68.900   \n",
       "1    Waqar   21  Female                  99.0                  60.730   \n",
       "2   Bushra   17    Male                  89.0                  76.195   \n",
       "3    Aliya   17    Male                  55.0                  85.290   \n",
       "4    Bilal   20    Male                  65.0                  61.130   \n",
       "\n",
       "        City Admission Status  \n",
       "0     Quetta         Rejected  \n",
       "1    Karachi          Unknown  \n",
       "2  Islamabad         Accepted  \n",
       "3    Karachi         Rejected  \n",
       "4     Lahore          Unknown  "
      ]
     },
     "execution_count": 569,
     "metadata": {},
     "output_type": "execute_result"
    }
   ],
   "source": [
    "df.head()"
   ]
  },
  {
   "cell_type": "markdown",
   "id": "40806503-8c2a-46b5-b417-8f00a71849f3",
   "metadata": {
    "jp-MarkdownHeadingCollapsed": true
   },
   "source": [
    "# Explanatory Data Analysis"
   ]
  },
  {
   "cell_type": "markdown",
   "id": "552567d5-7737-43b9-bcd5-a0a6fcdf6246",
   "metadata": {},
   "source": [
    "### Plot & Correlation"
   ]
  },
  {
   "cell_type": "code",
   "execution_count": 572,
   "id": "46cc937c-03d3-4953-8b16-22a4a60e2e00",
   "metadata": {},
   "outputs": [
    {
     "data": {
      "text/html": [
       "<div>\n",
       "<style scoped>\n",
       "    .dataframe tbody tr th:only-of-type {\n",
       "        vertical-align: middle;\n",
       "    }\n",
       "\n",
       "    .dataframe tbody tr th {\n",
       "        vertical-align: top;\n",
       "    }\n",
       "\n",
       "    .dataframe thead th {\n",
       "        text-align: right;\n",
       "    }\n",
       "</style>\n",
       "<table border=\"1\" class=\"dataframe\">\n",
       "  <thead>\n",
       "    <tr style=\"text-align: right;\">\n",
       "      <th></th>\n",
       "      <th>Name</th>\n",
       "      <th>Age</th>\n",
       "      <th>Gender</th>\n",
       "      <th>Admission Test Score</th>\n",
       "      <th>High School Percentage</th>\n",
       "      <th>City</th>\n",
       "      <th>Admission Status</th>\n",
       "    </tr>\n",
       "  </thead>\n",
       "  <tbody>\n",
       "    <tr>\n",
       "      <th>18</th>\n",
       "      <td>Maryam</td>\n",
       "      <td>19</td>\n",
       "      <td>Female</td>\n",
       "      <td>74.0</td>\n",
       "      <td>70.26</td>\n",
       "      <td>Lahore</td>\n",
       "      <td>Accepted</td>\n",
       "    </tr>\n",
       "    <tr>\n",
       "      <th>140</th>\n",
       "      <td>Feroze</td>\n",
       "      <td>23</td>\n",
       "      <td>Female</td>\n",
       "      <td>51.0</td>\n",
       "      <td>92.36</td>\n",
       "      <td>Rawalpindi</td>\n",
       "      <td>Accepted</td>\n",
       "    </tr>\n",
       "    <tr>\n",
       "      <th>10</th>\n",
       "      <td>Shafiq</td>\n",
       "      <td>17</td>\n",
       "      <td>Male</td>\n",
       "      <td>78.0</td>\n",
       "      <td>0.00</td>\n",
       "      <td>Quetta</td>\n",
       "      <td>Rejected</td>\n",
       "    </tr>\n",
       "    <tr>\n",
       "      <th>72</th>\n",
       "      <td>Unknown</td>\n",
       "      <td>21</td>\n",
       "      <td>Male</td>\n",
       "      <td>95.0</td>\n",
       "      <td>84.20</td>\n",
       "      <td>Islamabad</td>\n",
       "      <td>Unknown</td>\n",
       "    </tr>\n",
       "    <tr>\n",
       "      <th>151</th>\n",
       "      <td>Asad</td>\n",
       "      <td>20</td>\n",
       "      <td>Female</td>\n",
       "      <td>95.0</td>\n",
       "      <td>52.40</td>\n",
       "      <td>Rawalpindi</td>\n",
       "      <td>Rejected</td>\n",
       "    </tr>\n",
       "  </tbody>\n",
       "</table>\n",
       "</div>"
      ],
      "text/plain": [
       "        Name  Age  Gender  Admission Test Score  High School Percentage  \\\n",
       "18    Maryam   19  Female                  74.0                   70.26   \n",
       "140   Feroze   23  Female                  51.0                   92.36   \n",
       "10    Shafiq   17    Male                  78.0                    0.00   \n",
       "72   Unknown   21    Male                  95.0                   84.20   \n",
       "151     Asad   20  Female                  95.0                   52.40   \n",
       "\n",
       "           City Admission Status  \n",
       "18       Lahore         Accepted  \n",
       "140  Rawalpindi         Accepted  \n",
       "10       Quetta         Rejected  \n",
       "72    Islamabad          Unknown  \n",
       "151  Rawalpindi         Rejected  "
      ]
     },
     "execution_count": 572,
     "metadata": {},
     "output_type": "execute_result"
    }
   ],
   "source": [
    "df.sample(5)"
   ]
  },
  {
   "cell_type": "code",
   "execution_count": 742,
   "id": "eff7f4ff-49ba-4c37-9762-c9366fe3e460",
   "metadata": {},
   "outputs": [
    {
     "data": {
      "text/html": [
       "<div>\n",
       "<style scoped>\n",
       "    .dataframe tbody tr th:only-of-type {\n",
       "        vertical-align: middle;\n",
       "    }\n",
       "\n",
       "    .dataframe tbody tr th {\n",
       "        vertical-align: top;\n",
       "    }\n",
       "\n",
       "    .dataframe thead th {\n",
       "        text-align: right;\n",
       "    }\n",
       "</style>\n",
       "<table border=\"1\" class=\"dataframe\">\n",
       "  <thead>\n",
       "    <tr style=\"text-align: right;\">\n",
       "      <th></th>\n",
       "      <th>Age</th>\n",
       "      <th>Admission Test Score</th>\n",
       "      <th>High School Percentage</th>\n",
       "    </tr>\n",
       "  </thead>\n",
       "  <tbody>\n",
       "    <tr>\n",
       "      <th>Age</th>\n",
       "      <td>1.000000</td>\n",
       "      <td>-0.006835</td>\n",
       "      <td>0.205833</td>\n",
       "    </tr>\n",
       "    <tr>\n",
       "      <th>Admission Test Score</th>\n",
       "      <td>-0.006835</td>\n",
       "      <td>1.000000</td>\n",
       "      <td>-0.127921</td>\n",
       "    </tr>\n",
       "    <tr>\n",
       "      <th>High School Percentage</th>\n",
       "      <td>0.205833</td>\n",
       "      <td>-0.127921</td>\n",
       "      <td>1.000000</td>\n",
       "    </tr>\n",
       "  </tbody>\n",
       "</table>\n",
       "</div>"
      ],
      "text/plain": [
       "                             Age  Admission Test Score  High School Percentage\n",
       "Age                     1.000000             -0.006835                0.205833\n",
       "Admission Test Score   -0.006835              1.000000               -0.127921\n",
       "High School Percentage  0.205833             -0.127921                1.000000"
      ]
     },
     "execution_count": 742,
     "metadata": {},
     "output_type": "execute_result"
    }
   ],
   "source": [
    "correlation = df[[\"Age\", \"Admission Test Score\", \"High School Percentage\"]].corr()\n",
    "\n",
    "correlation"
   ]
  },
  {
   "cell_type": "code",
   "execution_count": 748,
   "id": "7b205009-d110-4bf5-aac3-388e0b42c2ce",
   "metadata": {},
   "outputs": [
    {
     "data": {
      "image/png": "[encoded data removed]",
      "text/plain": [
       "<Figure size 1400x800 with 1 Axes>"
      ]
     },
     "metadata": {},
     "output_type": "display_data"
    }
   ],
   "source": [
    "#Groupping\n",
    "avg_ats_city = df.groupby(\"City\")[\"Admission Test Score\"].mean()\n",
    "avg_hsp_city = df.groupby(\"City\")[\"High School Percentage\"].mean()\n",
    "\n",
    "#Plottingan\n",
    "plt.figure(figsize=(14,8))\n",
    "plt.plot(avg_ats_city.index, avg_ats_city.values, marker='o', label=\"Admission Test Score\")\n",
    "plt.plot(avg_hsp_city.index, avg_hsp_city.values, marker='o', label=\"High School Percentage\")\n",
    "plt.title(\"Perbandingan Rata Rata ATS vs HSP Setiap Kota\")\n",
    "plt.ylabel(\"Score\")\n",
    "plt.xlabel(\"City\")\n",
    "plt.legend()\n",
    "plt.grid(True)\n",
    "plt.show()"
   ]
  },
  {
   "cell_type": "code",
   "execution_count": 670,
   "id": "c084330f-255b-4a93-9044-570f9d1c1454",
   "metadata": {},
   "outputs": [
    {
     "data": {
      "text/plain": [
       "Text(0.5, 1.0, 'Persentase dari Admission Status')"
      ]
     },
     "execution_count": 670,
     "metadata": {},
     "output_type": "execute_result"
    },
    {
     "data": {
      "image/png": "[encoded data removed]",
      "text/plain": [
       "<Figure size 1100x700 with 1 Axes>"
      ]
     },
     "metadata": {},
     "output_type": "display_data"
    }
   ],
   "source": [
    "status_count = df[\"Admission Status\"].value_counts()\n",
    "\n",
    "#print(status_count)\n",
    "#print(status_count.index)\n",
    "\n",
    "#Plottingan\n",
    "plt.figure(figsize=(11,7))\n",
    "plt.pie(status_count, labels=status_count.index, autopct='%1.1f%%')\n",
    "plt.title(\"Persentase dari Admission Status\")"
   ]
  },
  {
   "cell_type": "code",
   "execution_count": 680,
   "id": "11715755-d769-4254-b8dc-941970a721ce",
   "metadata": {},
   "outputs": [
    {
     "data": {
      "image/png": "[encoded data removed]",
      "text/plain": [
       "<Figure size 700x700 with 1 Axes>"
      ]
     },
     "metadata": {},
     "output_type": "display_data"
    }
   ],
   "source": [
    "gender_count = df[\"Gender\"].value_counts()\n",
    "\n",
    "#Plottingan\n",
    "plt.figure(figsize=(7,7))\n",
    "plt.bar(gender_count.index, gender_count.values)\n",
    "plt.title(\"Gender Distribution\")\n",
    "plt.ylabel(\"Value\")\n",
    "plt.xlabel(\"Gender\")\n",
    "plt.show()"
   ]
  },
  {
   "cell_type": "code",
   "execution_count": 760,
   "id": "b9ea1b51-c301-4674-867f-13bd1dd29dea",
   "metadata": {},
   "outputs": [
    {
     "data": {
      "image/png": "[encoded data removed]",
      "text/plain": [
       "<Figure size 1000x600 with 1 Axes>"
      ]
     },
     "metadata": {},
     "output_type": "display_data"
    }
   ],
   "source": [
    "plt.figure(figsize=(10,6))\n",
    "plt.hist(df[\"Admission Test Score\"], edgecolor='black')\n",
    "plt.title(\"Distribusi Nilai Admission Test Score\")\n",
    "plt.xlabel(\"Score\")\n",
    "plt.ylabel(\"Jumlah Mahasiswa\")\n",
    "plt.grid(True)\n",
    "plt.show()"
   ]
  },
  {
   "cell_type": "code",
   "execution_count": 752,
   "id": "9cc5faf3-a3c9-4e55-986e-3cc0b1af4a86",
   "metadata": {},
   "outputs": [
    {
     "data": {
      "text/html": [
       "<div>\n",
       "<style scoped>\n",
       "    .dataframe tbody tr th:only-of-type {\n",
       "        vertical-align: middle;\n",
       "    }\n",
       "\n",
       "    .dataframe tbody tr th {\n",
       "        vertical-align: top;\n",
       "    }\n",
       "\n",
       "    .dataframe thead th {\n",
       "        text-align: right;\n",
       "    }\n",
       "</style>\n",
       "<table border=\"1\" class=\"dataframe\">\n",
       "  <thead>\n",
       "    <tr style=\"text-align: right;\">\n",
       "      <th>Admission Status</th>\n",
       "      <th>Accepted</th>\n",
       "      <th>Rejected</th>\n",
       "      <th>Unknown</th>\n",
       "    </tr>\n",
       "    <tr>\n",
       "      <th>City</th>\n",
       "      <th></th>\n",
       "      <th></th>\n",
       "      <th></th>\n",
       "    </tr>\n",
       "  </thead>\n",
       "  <tbody>\n",
       "    <tr>\n",
       "      <th>Islamabad</th>\n",
       "      <td>7</td>\n",
       "      <td>9</td>\n",
       "      <td>1</td>\n",
       "    </tr>\n",
       "    <tr>\n",
       "      <th>Karachi</th>\n",
       "      <td>9</td>\n",
       "      <td>15</td>\n",
       "      <td>2</td>\n",
       "    </tr>\n",
       "    <tr>\n",
       "      <th>Lahore</th>\n",
       "      <td>12</td>\n",
       "      <td>4</td>\n",
       "      <td>1</td>\n",
       "    </tr>\n",
       "    <tr>\n",
       "      <th>Multan</th>\n",
       "      <td>9</td>\n",
       "      <td>9</td>\n",
       "      <td>0</td>\n",
       "    </tr>\n",
       "    <tr>\n",
       "      <th>Peshawar</th>\n",
       "      <td>6</td>\n",
       "      <td>11</td>\n",
       "      <td>0</td>\n",
       "    </tr>\n",
       "    <tr>\n",
       "      <th>Quetta</th>\n",
       "      <td>17</td>\n",
       "      <td>19</td>\n",
       "      <td>4</td>\n",
       "    </tr>\n",
       "    <tr>\n",
       "      <th>Rawalpindi</th>\n",
       "      <td>8</td>\n",
       "      <td>6</td>\n",
       "      <td>2</td>\n",
       "    </tr>\n",
       "  </tbody>\n",
       "</table>\n",
       "</div>"
      ],
      "text/plain": [
       "Admission Status  Accepted  Rejected  Unknown\n",
       "City                                         \n",
       "Islamabad                7         9        1\n",
       "Karachi                  9        15        2\n",
       "Lahore                  12         4        1\n",
       "Multan                   9         9        0\n",
       "Peshawar                 6        11        0\n",
       "Quetta                  17        19        4\n",
       "Rawalpindi               8         6        2"
      ]
     },
     "execution_count": 752,
     "metadata": {},
     "output_type": "execute_result"
    }
   ],
   "source": [
    "pd.crosstab(df[\"City\"], df[\"Admission Status\"])"
   ]
  },
  {
   "cell_type": "markdown",
   "id": "c509c258-f068-4e45-97c9-7fcaa56ca96e",
   "metadata": {},
   "source": [
    "### Seaborn Test"
   ]
  },
  {
   "cell_type": "code",
   "execution_count": 728,
   "id": "d7b6528f-e7c7-48ee-86dc-643daab1b46b",
   "metadata": {},
   "outputs": [
    {
     "data": {
      "image/png": "[encoded data removed]",
      "text/plain": [
       "<Figure size 1000x600 with 1 Axes>"
      ]
     },
     "metadata": {},
     "output_type": "display_data"
    }
   ],
   "source": [
    "import seaborn as sns\n",
    "\n",
    "plt.figure(figsize=(10,6))\n",
    "sns.histplot(df[\"Admission Test Score\"], kde=True, bins=20, color='skyblue')\n",
    "plt.title(\"Distribusi & Skewness: Admission Test Score\")\n",
    "plt.xlabel(\"Score\")\n",
    "plt.ylabel(\"Frequency\")\n",
    "plt.grid(True)\n",
    "plt.show()"
   ]
  },
  {
   "cell_type": "code",
   "execution_count": 734,
   "id": "c2adf1c2-0233-4dad-bace-7f21992d324e",
   "metadata": {},
   "outputs": [
    {
     "data": {
      "text/plain": [
       "Text(0.5, 1.0, 'Distribusi ATS per Kota')"
      ]
     },
     "execution_count": 734,
     "metadata": {},
     "output_type": "execute_result"
    },
    {
     "data": {
      "image/png": "[encoded data removed]",
      "text/plain": [
       "<Figure size 640x480 with 1 Axes>"
      ]
     },
     "metadata": {},
     "output_type": "display_data"
    }
   ],
   "source": [
    "sns.boxplot(x=\"City\", y=\"Admission Test Score\", data=df)\n",
    "plt.xticks(rotation=45)\n",
    "plt.title(\"Distribusi ATS per Kota\")"
   ]
  },
  {
   "cell_type": "code",
   "execution_count": 750,
   "id": "4aebbf33-7336-4da7-b7f8-728a63f04520",
   "metadata": {},
   "outputs": [
    {
     "data": {
      "text/plain": [
       "<Axes: xlabel='Admission Status', ylabel='count'>"
      ]
     },
     "execution_count": 750,
     "metadata": {},
     "output_type": "execute_result"
    },
    {
     "data": {
      "image/png": "[encoded data removed]",
      "text/plain": [
       "<Figure size 640x480 with 1 Axes>"
      ]
     },
     "metadata": {},
     "output_type": "display_data"
    }
   ],
   "source": [
    "sns.countplot(data=df, x=\"Admission Status\")"
   ]
  },
  {
   "cell_type": "markdown",
   "id": "a43164cb-2542-4288-afdd-12a42f99b509",
   "metadata": {},
   "source": [
    "# Load to Local Folder"
   ]
  },
  {
   "cell_type": "code",
   "execution_count": 774,
   "id": "31c23df9-15e8-4328-96ee-a6fe924492be",
   "metadata": {},
   "outputs": [
    {
     "name": "stdout",
     "output_type": "stream",
     "text": [
      "F:\\Portofolio\\Analytics-Showcase\\StudentAdmission\\Notebooks\n"
     ]
    }
   ],
   "source": [
    "import os\n",
    "print(os.getcwd())"
   ]
  },
  {
   "cell_type": "code",
   "execution_count": 776,
   "id": "bda35059-8042-42b9-b667-6dbdba9bef86",
   "metadata": {},
   "outputs": [],
   "source": [
    "df.to_csv(\"../Data/ProcessedData/SA_Data_Cleaned.csv\", index=False)"
   ]
  }
 ],
 "metadata": {
  "kernelspec": {
   "display_name": "Python 3 (ipykernel)",
   "language": "python",
   "name": "python3"
  },
  "language_info": {
   "codemirror_mode": {
    "name": "ipython",
    "version": 3
   },
   "file_extension": ".py",
   "mimetype": "text/x-python",
   "name": "python",
   "nbconvert_exporter": "python",
   "pygments_lexer": "ipython3",
   "version": "3.12.4"
  }
 },
 "nbformat": 4,
 "nbformat_minor": 5
}
